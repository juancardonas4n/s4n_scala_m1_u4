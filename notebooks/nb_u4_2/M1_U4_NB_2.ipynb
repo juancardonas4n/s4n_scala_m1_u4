{
 "cells": [
  {
   "cell_type": "markdown",
   "metadata": {},
   "source": [
    "# Problemas de estado mutable compartido\n",
    "En esta sección presentaremos dos problemas, en Java, cada problema contiene el problema del **estado mutable compartido**. La idea es solucionar cada estado mutable compartido utilizando la técnica de copia vista en el vídeo anterior.\n",
    "\n",
    "## Problema 1. (Sistema de registro de versiones)\n",
    "\n",
    "Vamos a presentar un problema que es llevar una lista de las diferentes versiones que tenemos almacenadas en un posible fichero.\n",
    "Empecemos por las clase `Version` la idea de esta clase es tener un registro del número de versión actual (por facilidad con los números de versiones que consta de al menos de tres números en secuencias diferentes X.Y.Z, la vamos a simplicar con único número). Como se puede observar nuestra clase `Version` es una clase muy simple que simplemente tiene dos constructores: Uno por omisión que inicia la secuencia en 0 y otro que inicia con un número de versión que iniciar (Se espera que el número de versión sea un número mayor e igual a 0)."
   ]
  },
  {
   "cell_type": "code",
   "execution_count": 14,
   "metadata": {},
   "outputs": [],
   "source": [
    "public class Version {\n",
    "  private int versionNumber;\n",
    "  public Version(int versionNumber) {\n",
    "     assert versionNumber >= 0;\n",
    "     this.versionNumber = versionNumber;\n",
    "  }\n",
    "  public Version() {\n",
    "     this(0);\n",
    "  }\n",
    "  public int getVersionNumber() {\n",
    "     return versionNumber;\n",
    "  }\n",
    "  public int incrVersionNumber() {\n",
    "      return versionNumber++;\n",
    "  }\n",
    "  public String toString() {\n",
    "      return \"\" + versionNumber;\n",
    "  }\n",
    "}"
   ]
  },
  {
   "cell_type": "markdown",
   "metadata": {},
   "source": [
    "Podemos probar en el siguiente código que va incrementando el número de versión varias veces e imprimiéndolo."
   ]
  },
  {
   "cell_type": "code",
   "execution_count": 13,
   "metadata": {},
   "outputs": [
    {
     "name": "stdout",
     "output_type": "stream",
     "text": [
      "0\n",
      "1\n",
      "2\n"
     ]
    }
   ],
   "source": [
    "Version v = new Version();\n",
    "System.out.println(v);\n",
    "v.incrVersionNumber();\n",
    "System.out.println(v);\n",
    "v.incrVersionNumber();\n",
    "System.out.println(v);"
   ]
  },
  {
   "cell_type": "markdown",
   "metadata": {},
   "source": [
    "Ahora con este código vamos a implementar una bitácora de versiones sobre un fichero. Normalmente la bitácora de versiones lleva un registro de cada versión en la que ha habido cambios en un proyecto. Para ellos vamos a utilizar una lista (`List`) de versiones donde se guarda cada una de las versiones por las que ha pasado nuestro fichero. Nuestro proyecto consta de un solo fichero. El siguiente código genera la bitácora:"
   ]
  },
  {
   "cell_type": "code",
   "execution_count": 17,
   "metadata": {},
   "outputs": [],
   "source": [
    "List<Version> log = new ArrayList<>();\n",
    "Version fileVersion = new Version();"
   ]
  },
  {
   "cell_type": "markdown",
   "metadata": {},
   "source": [
    "Vamos a simular el comportamiento de la bitácora, realizando una secuencia de 5 cambios a través del siguiente procedimiento que simula la ejecución de n versiones."
   ]
  },
  {
   "cell_type": "code",
   "execution_count": 18,
   "metadata": {},
   "outputs": [],
   "source": [
    "static void seqChanges(int n) {\n",
    "    for (int i = 0; i < n; i++) {\n",
    "        System.out.println(\"Current version: \" + fileVersion.getVersionNumber());\n",
    "        fileVersion.incrVersionNumber();\n",
    "        System.out.println(\"New version: \" + fileVersion.getVersionNumber());\n",
    "        log.add(fileVersion);\n",
    "    }\n",
    "}"
   ]
  },
  {
   "cell_type": "markdown",
   "metadata": {},
   "source": []
  }
 ],
 "metadata": {
  "kernelspec": {
   "display_name": "Java",
   "language": "java",
   "name": "java"
  },
  "language_info": {
   "codemirror_mode": "java",
   "file_extension": ".jshell",
   "mimetype": "text/x-java-source",
   "name": "Java",
   "pygments_lexer": "java",
   "version": "11.0.9+11"
  }
 },
 "nbformat": 4,
 "nbformat_minor": 4
}
