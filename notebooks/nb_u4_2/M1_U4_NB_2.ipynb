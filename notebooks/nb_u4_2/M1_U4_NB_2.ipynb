{
 "cells": [
  {
   "cell_type": "markdown",
   "metadata": {},
   "source": [
    "# Programas con estado mutable compartido\n",
    "\n",
    "En esta sección, presentaremos dos ejercicios de programación implementados en Java, donde cada uno de ellos sufre  del problema anteriormente mencionado: **estado mutable compartido**. La idea en esta sección es entender cómo dichas implementaciones sufren de dicho probleam y, a través de la técnica de copia, vista en un vídeo anterior, eliminar dicho incoveniente.\n",
    "\n",
    "## Problema 1. (Sistema de transacciones)\n",
    "\n",
    "Un sistema de transacciones registra las operaciones en moneda extranjera. Supongamos, que tenemos una clase llamada `ForeingEx` que representa divisas en moneda extranjera y su valor de conversión a una moneda determinada, por medio de un valor multiplicativo."
   ]
  },
  {
   "cell_type": "code",
   "execution_count": null,
   "metadata": {},
   "outputs": [],
   "source": [
    "public class ForeignEx {\n",
    "   private double value;\n",
    "   public ForeignEx(double value) {\n",
    "      this.value = value;\n",
    "   }\n",
    "   public double getValue() {\n",
    "      return value;\n",
    "   }\n",
    "   public void setValue(double value) {\n",
    "      this.value = value;\n",
    "   }\n",
    "   public String toString() {\n",
    "      return \"\" + value;\n",
    "   }\n",
    "}"
   ]
  },
  {
   "cell_type": "markdown",
   "metadata": {},
   "source": [
    "Implementamos un sencillo sistema de transacciones, por medio de la clase `Transaction`. Esta registra una operación con divisas extranjeras (`ForeignEx`), en ella se registra el monto (`amount`) de cambio.\n",
    "\n",
    "El siguiente código muestra como se hace una transacción específica."
   ]
  },
  {
   "cell_type": "code",
   "execution_count": null,
   "metadata": {},
   "outputs": [],
   "source": [
    "public class Transaction {\n",
    "    private double amount;\n",
    "    private ForeignEx forEx;\n",
    "    public Transaction(double amount, ForeignEx forEx) {\n",
    "       this.amount = amount;\n",
    "       this.forEx = forEx;\n",
    "    }\n",
    "    public double getTransValue() {\n",
    "       return amount * forEx.getValue();\n",
    "    }\n",
    "    public String toString() {\n",
    "       return \"amount: \" + \" Foreign Exchange: \" + forEx + \"\\nTotal: \" + getTransValue() + \"\\n\";\n",
    "    }\n",
    "}"
   ]
  },
  {
   "cell_type": "markdown",
   "metadata": {},
   "source": [
    "El siguiente segmento de código muestra como se llevan a cabo varias transacciones con diferentes montos con una moneda extranjera cuyo valor de conversión es $10.1$ unidades a nuestra moneda local."
   ]
  },
  {
   "cell_type": "code",
   "execution_count": null,
   "metadata": {},
   "outputs": [],
   "source": [
    "double amounts[] = { 1.2, 3.4, 5.6 };\n",
    "ForeignEx fe = new ForeignEx(10.1);\n",
    "List<Transaction> transDay1 = new ArrayList<>();\n",
    "for (int i = 0; i < amounts.length; i++) {\n",
    "    transDay1.add(new Transaction(amounts[i],fe));\n",
    "}\n",
    "System.out.println(transDay1);"
   ]
  },
  {
   "cell_type": "markdown",
   "metadata": {},
   "source": [
    "Ahora mostramos otra transacción con un moneda extranjera diferente, que tiene un valor de conversión de $20.1$ unidades a nuestra moneda local."
   ]
  },
  {
   "cell_type": "code",
   "execution_count": null,
   "metadata": {},
   "outputs": [],
   "source": [
    "double amountsDay2[] = { 2.1, 4.9, 3.2 };\n",
    "fe = new ForeignEx(20.1);\n",
    "List<Transaction> transDay2 = new ArrayList<>();\n",
    "for (int i = 0; i < amountsDay2.length; i++) {\n",
    "    transDay2.add(new Transaction(amounts[i],fe));\n",
    "}\n",
    "System.out.println(transDay2);"
   ]
  },
  {
   "cell_type": "markdown",
   "metadata": {},
   "source": [
    "Aparentemente todo se encuentra bien. Si imprimimos las transacciones del día uno, se observa que el comportamiento no es el esperado. Esto se debe, a que nuestra implementación de la clase `Transaction` mantiene un estado compartido, este debería guardar una copia, pero guarda una referencia."
   ]
  },
  {
   "cell_type": "code",
   "execution_count": null,
   "metadata": {},
   "outputs": [],
   "source": [
    "System.out.println(transDay1);"
   ]
  },
  {
   "cell_type": "markdown",
   "metadata": {},
   "source": [
    "**Reescriba** el código de las transacciones del **cada día** de forma que cada conjunto de transacciones maneje sus divisas extranjeras diferentes en cada transacción.\n",
    "\n",
    "## Problema 2. (Sistema de registro de versiones)\n",
    "\n",
    "Este problema se encarga de llevar un registro de las diferentes versiones que puede llegar a tener un fichero determinado.\n",
    "\n",
    "La clase `Version` se encarga de registrar la versión actual de un fichero (por facilidad con los números de versiones que consta de al menos de tres números en secuencias diferentes X.Y.Z, la vamos a simplicar con único número). Esta clase tiene dos constructores: Uno por omisión que inicia la secuencia en 0 y otro que inicia con un número de versión que iniciar (Se espera que el número de versión sea un número mayor e igual a 0)."
   ]
  },
  {
   "cell_type": "code",
   "execution_count": null,
   "metadata": {},
   "outputs": [],
   "source": [
    "public class Version {\n",
    "  private int versionNumber;\n",
    "  public Version(int versionNumber) {\n",
    "     assert versionNumber >= 0;\n",
    "     this.versionNumber = versionNumber;\n",
    "  }\n",
    "  public Version() {\n",
    "     this(0);\n",
    "  }\n",
    "  public int getVersionNumber() {\n",
    "     return versionNumber;\n",
    "  }\n",
    "  public int incrVersionNumber() {\n",
    "      return versionNumber++;\n",
    "  }\n",
    "  public String toString() {\n",
    "      return \"\" + versionNumber;\n",
    "  }\n",
    "}"
   ]
  },
  {
   "cell_type": "markdown",
   "metadata": {},
   "source": [
    "El siguiente segmento de código nos muestra como una versión puede ir cambiando a través del tiempo."
   ]
  },
  {
   "cell_type": "code",
   "execution_count": null,
   "metadata": {},
   "outputs": [],
   "source": [
    "Version v = new Version();\n",
    "System.out.println(v);\n",
    "v.incrVersionNumber();\n",
    "System.out.println(v);\n",
    "v.incrVersionNumber();\n",
    "System.out.println(v);"
   ]
  },
  {
   "cell_type": "markdown",
   "metadata": {},
   "source": [
    "Utilizando esta clase `Version` vamos a implementar una bitácora de versiones sobre un fichero. Normalmente, la bitácora de versiones lleva el registro de las diferentes versiones que ha pasado por un fichero. Guardaremos nuestro conjunto de versiones por medio de una lista (`List`) de versiones. Para simplificar nuestro problema tendremos un único fichero (archivo). El siguiente código genera la bitácora:"
   ]
  },
  {
   "cell_type": "code",
   "execution_count": null,
   "metadata": {},
   "outputs": [],
   "source": [
    "List<Version> log = new ArrayList<>();\n",
    "Version fileVersion = new Version();"
   ]
  },
  {
   "cell_type": "markdown",
   "metadata": {},
   "source": [
    "Vamos a simular el comportamiento de la bitácora, realizando una secuencia de 5 cambios a través del siguiente procedimiento que simula la ejecución de n versiones."
   ]
  },
  {
   "cell_type": "code",
   "execution_count": null,
   "metadata": {},
   "outputs": [],
   "source": [
    "static void seqChanges(int n) {\n",
    "    for (int i = 0; i < n; i++) {\n",
    "        System.out.println(\"Current version: \" + fileVersion.getVersionNumber());\n",
    "        log.add(fileVersion);\n",
    "        fileVersion.incrVersionNumber();\n",
    "        System.out.println(\"New version: \" + fileVersion.getVersionNumber());\n",
    "    }\n",
    "}"
   ]
  },
  {
   "cell_type": "markdown",
   "metadata": {},
   "source": [
    "Probemos que todo (aparentemente) funciona bien:"
   ]
  },
  {
   "cell_type": "code",
   "execution_count": null,
   "metadata": {},
   "outputs": [],
   "source": [
    "seqChanges(5);"
   ]
  },
  {
   "cell_type": "markdown",
   "metadata": {},
   "source": [
    "Todo bien, hemos hecho los cambios correspondientes y se han actualizado las versiones `[0,1,2,3,4]`. El siguiente valor a registrar es el 5. Entonces, miremos el siguiente código que debe imprimir lo mismo."
   ]
  },
  {
   "cell_type": "code",
   "execution_count": null,
   "metadata": {},
   "outputs": [],
   "source": [
    "System.out.println(log);"
   ]
  },
  {
   "cell_type": "markdown",
   "metadata": {},
   "source": [
    "¿Qué acaba de suceder? Lo que acaba de suceder es que el sistema imprime la secuencia de la bitácora como una secuencia de valores: `[5,5,5,5,5]`. Esto es básicamente, un problema del **estado mutable compartido**. El error se presenta en la definición de la clase `Version`. Esta no debe modificar el estado cada vez que incrementa, sino debe debe devolver la siguiente version. Corrija el método `incrVersionNumber` con la nueva firma (**signature**).\n",
    "\n",
    "```.java\n",
    "public class Version {\n",
    "  private int versionNumber;\n",
    "  public Version(int versionNumber) {\n",
    "     assert versionNumber >= 0;\n",
    "     this.versionNumber = versionNumber;\n",
    "  }\n",
    "  public Version() {\n",
    "     this(0);\n",
    "  }\n",
    "  public int getVersionNumber() {\n",
    "     return versionNumber;\n",
    "  }\n",
    "  public Version incrVersionNumber() {\n",
    "      return null; // Retornar la versión nueva\n",
    "  }\n",
    "  public String toString() {\n",
    "      return \"\" + versionNumber;\n",
    "  }\n",
    "}\n",
    "```"
   ]
  },
  {
   "cell_type": "markdown",
   "metadata": {},
   "source": [
    "En el siguiente segmento de código se muestra la implementación de una clase auxiliar llamada `Pair`, con ella podemos representar las tuplas en Java, de forma que podamos retornar a través de una función dos valores (`first` y `second`) de cualquier tipo cada uno. \n",
    "\n",
    "Igualmente, observas un nuevo código de la clase `Version`, este código **debe ser modificado** con una nueva  implementación del método `incrVersionNumber` de forma que cada vez que se invoca se obtenga una instancia de la clase versión que contiene un número mayor que la clase a la que pertenece.\n",
    "\n",
    "También, **se debe modificar** el método `seqChanges`. Esta implementará de forma semejanta al cuerpo de código anterior, pero con la premisa, en primer lugar, que recibe: `n` que indica el número de iteraciones y `actual` que es la Versión en la que se parte y retorna a través de la clase auxiliar `Pair` dos valores:  el valor de versión final procesada y una lista con las versiones producidas.\n",
    "\n",
    "En resumen, se debe implementar en la clase `Version` el método `incrVersionNumber` y el método `seqChange`. Mostrar que la bitácora de realmente lleva el registro de las distinas versiones, eliminando para ello el problema **estado mutable compartido**."
   ]
  },
  {
   "cell_type": "code",
   "execution_count": null,
   "metadata": {},
   "outputs": [],
   "source": [
    "class Pair<F,S> {\n",
    "   private F first;\n",
    "   private S second;\n",
    "   Pair(F first, S second) {\n",
    "      this.first = first;\n",
    "      this.second = second;\n",
    "   }\n",
    "   F getFirst() {\n",
    "      return first;\n",
    "   }\n",
    "   S getSecond() {\n",
    "      return second;\n",
    "   }\n",
    "}\n",
    "\n",
    "public class Version {\n",
    "  private int versionNumber;\n",
    "  public Version(int versionNumber) {\n",
    "     assert versionNumber >= 0;\n",
    "     this.versionNumber = versionNumber;\n",
    "  }\n",
    "  public Version() {\n",
    "     this(0);\n",
    "  }\n",
    "  public int getVersionNumber() {\n",
    "     return versionNumber;\n",
    "  }\n",
    "  public Version incrVersionNumber() {\n",
    "      return null; // Retornar la versión nueva\n",
    "  }\n",
    "  public String toString() {\n",
    "      return \"\" + versionNumber;\n",
    "  }\n",
    "}\n",
    "\n",
    "static Pair<Version,List<Version>> seqChange(int n, Version actual) {\n",
    "    return new null;\n",
    "}\n",
    "\n",
    "Version initial = new Version();\n",
    "Pair<Version,List<Version>> result = seqChange(5, initial);\n",
    "System.out.println(result.getSecond());"
   ]
  }
 ],
 "metadata": {
  "kernelspec": {
   "display_name": "Java",
   "language": "java",
   "name": "java"
  },
  "language_info": {
   "codemirror_mode": "java",
   "file_extension": ".jshell",
   "mimetype": "text/x-java-source",
   "name": "Java",
   "pygments_lexer": "java",
   "version": "11.0.9+11"
  }
 },
 "nbformat": 4,
 "nbformat_minor": 4
}
