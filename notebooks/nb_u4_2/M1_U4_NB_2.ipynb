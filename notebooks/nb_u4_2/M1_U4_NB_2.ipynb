{
 "cells": [
  {
   "cell_type": "markdown",
   "metadata": {},
   "source": [
    "# Problemas de estado mutable compartido\n",
    "En esta sección presentaremos dos problemas, en Java, cada problema contiene el problema del **estado mutable compartido**. La idea es solucionar cada estado mutable compartido utilizando la técnica de copia vista en el vídeo anterior.\n",
    "\n",
    "## Problema 1. (Sistema de registro de versiones)\n",
    "\n",
    "Vamos a presentar un problema que es llevar una lista de las diferentes versiones que tenemos almacenadas en un posible fichero.\n",
    "Empecemos por las clase `Version` la idea de esta clase es tener un registro del número de versión actual (por facilidad con los números de versiones que consta de al menos de tres números en secuencias diferentes X.Y.Z, la vamos a simplicar con único número). "
   ]
  },
  {
   "cell_type": "code",
   "execution_count": 3,
   "metadata": {},
   "outputs": [],
   "source": [
    "import java.util.List;\n",
    "import java.util.ArrayList;\n",
    "\n",
    "public class Version {\n",
    "  private int versionNumber;\n",
    "  public Version(int versionNumber) {\n",
    "     this.versionNumber = versionNumber;\n",
    "  }\n",
    "  public Version() {\n",
    "     this(0);\n",
    "  }\n",
    "  public int getVersionNumber() {\n",
    "     return versionNumber;\n",
    "  }\n",
    "  public int incrVersionNumber() {\n",
    "      return versionNumber++;\n",
    "  }\n",
    "  public String toString() {\n",
    "      return \"\" + versionNumber;\n",
    "  }\n",
    "}"
   ]
  },
  {
   "cell_type": "code",
   "execution_count": 6,
   "metadata": {},
   "outputs": [
    {
     "name": "stdout",
     "output_type": "stream",
     "text": [
      "0\n",
      "1\n"
     ]
    }
   ],
   "source": [
    "Version v = new Version();\n",
    "System.out.println(v);\n",
    "v.incrVersionNumber();\n",
    "System.out.println(v);"
   ]
  },
  {
   "cell_type": "code",
   "execution_count": null,
   "metadata": {},
   "outputs": [],
   "source": []
  }
 ],
 "metadata": {
  "kernelspec": {
   "display_name": "Java",
   "language": "java",
   "name": "java"
  },
  "language_info": {
   "codemirror_mode": "java",
   "file_extension": ".jshell",
   "mimetype": "text/x-java-source",
   "name": "Java",
   "pygments_lexer": "java",
   "version": "11.0.9+11"
  }
 },
 "nbformat": 4,
 "nbformat_minor": 4
}
