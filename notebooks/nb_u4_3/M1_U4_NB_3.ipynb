{
 "cells": [
  {
   "cell_type": "markdown",
   "metadata": {},
   "source": [
    "# Listas en Scala\n",
    "\n",
    "Vamos a realizar algunos ejercicios con las listas. Empecemos:\n",
    "\n",
    "## Ejercicio 1. Obtener el elemento de la mitad de una lista.\n",
    "Implemente una función `obtenerMitad` que reciba un lista de cadenas de caracteres y que obtenga el elemento que esta en la mitad a lista, si el tamaño de la lista es par, sino obtiene la cadena vacía en caso que la lista sea impar. A continuación se describe la firma de la función:"
   ]
  },
  {
   "cell_type": "code",
   "execution_count": null,
   "metadata": {},
   "outputs": [],
   "source": [
    "def obtenerMitad(lst:List[String]):String = ???"
   ]
  },
  {
   "cell_type": "markdown",
   "metadata": {},
   "source": [
    "Ejecute los siguientes dos ejemplos que cumpla con lo especificado en la función."
   ]
  },
  {
   "cell_type": "code",
   "execution_count": null,
   "metadata": {},
   "outputs": [],
   "source": [
    "val listaPar = List(\"a\",\"b\",\"c\",\"d\")\n",
    "val listaImpar = List(\"a\",\"b\",\"c\",\"d\",\"e\")\n",
    "obtenerMitad(listaPar)\n",
    "obtenerMitad(listaImpar)"
   ]
  },
  {
   "cell_type": "markdown",
   "metadata": {},
   "source": [
    "Se espera que la primera función obtenga una cadena vacía `\"\"`. La ejecución de la segunda función returne la cadena `\"c\"`.\n",
    "\n",
    "## Ejercicio 2. El segundo al final.\n",
    "Implemente una función llamada `segundoAlFinal` que reciba una lista de cadenas de caracteres y que mueva el segundo elemento de la lista al final de la misma. A continuación se muestra la firma de la función:"
   ]
  },
  {
   "cell_type": "code",
   "execution_count": 1,
   "metadata": {},
   "outputs": [
    {
     "data": {
      "text/plain": [
       "defined \u001b[32mfunction\u001b[39m \u001b[36msegundoAlFinal\u001b[39m"
      ]
     },
     "execution_count": 1,
     "metadata": {},
     "output_type": "execute_result"
    }
   ],
   "source": [
    "def segundoAlFinal(lst:List[String]):List[String] = ???"
   ]
  },
  {
   "cell_type": "markdown",
   "metadata": {},
   "source": [
    "Ejecute los siguientes dos ejemplos que cumpla con lo especificado en la función."
   ]
  },
  {
   "cell_type": "code",
   "execution_count": null,
   "metadata": {},
   "outputs": [],
   "source": [
    "val lista1 = List(\"a\",\"b\",\"c\")\n",
    "val lista2 = List(\"a\",\"b\",\"c\",\"d\")\n",
    "segundoAlFinal(lista1)\n",
    "segundoAlFinal(lista2)"
   ]
  },
  {
   "cell_type": "markdown",
   "metadata": {},
   "source": [
    "Se espera que la primera invocación de `segundoAlFinal` obtenga: `[\"a\", \"c\", \"b\"]`. La segunda invocación obtenga: `[\"a\",\"c\",\"d\",\"b\"]`.\n",
    "\n",
    "# Ejercicio 3. \n"
   ]
  },
  {
   "cell_type": "code",
   "execution_count": null,
   "metadata": {},
   "outputs": [],
   "source": []
  }
 ],
 "metadata": {
  "kernelspec": {
   "display_name": "Scala",
   "language": "scala",
   "name": "scala"
  },
  "language_info": {
   "codemirror_mode": "text/x-scala",
   "file_extension": ".sc",
   "mimetype": "text/x-scala",
   "name": "scala",
   "nbconvert_exporter": "script",
   "version": "2.13.3"
  }
 },
 "nbformat": 4,
 "nbformat_minor": 4
}
