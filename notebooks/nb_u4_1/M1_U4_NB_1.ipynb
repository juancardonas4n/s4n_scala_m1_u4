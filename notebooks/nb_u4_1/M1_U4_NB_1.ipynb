{
 "cells": [
  {
   "cell_type": "markdown",
   "metadata": {},
   "source": [
    "# Sistema de control planes de visitas\n",
    "Una empresa de ventas ambulantes requiere controlar los planes de visitas de sus vendedores ambulates. Para ello lleva por cada vendedor un estricto plan de visitas que debe ser llevado de forma secuencial. Para simplicar el problema vamos a trabajar con un único vendedor. Implementaremos nuestra solución utilizando Java y guardaremos nuestro plan de visitas como una [Lista](https://docs.oracle.com/javase/9/docs/api/java/util/List.html) implementadas a través de un [ArrayList](https://docs.oracle.com/javase/9/docs/api/java/util/ArrayList.html). La idea es almacenar el plan de un vendedor, como se muestra a continuación:"
   ]
  },
  {
   "cell_type": "code",
   "execution_count": 1,
   "metadata": {},
   "outputs": [
    {
     "name": "stdout",
     "output_type": "stream",
     "text": [
      "[Carlos, Jose, David]\n"
     ]
    }
   ],
   "source": [
    "import java.util.List;\n",
    "import java.util.ArrayList;\n",
    "\n",
    "List<String> planVisitasA = new ArrayList<>();\n",
    "planVisitasA.add(\"Carlos\");\n",
    "planVisitasA.add(\"Jose\");\n",
    "planVisitasA.add(\"David\");\n",
    "System.out.println(planVisitasA);"
   ]
  },
  {
   "cell_type": "markdown",
   "metadata": {},
   "source": [
    "En este caso, nuestro vendedor tiene como plan visitar los clientes: ```[Carlos, Jose, David]``` en ese respectivo orden.\n",
    "Nuestro sistema debe registrar los nuevos planes, de forma que podamos tener la información del *plan anterior y del plan nuevo*. Vamos a crear una función ```crearNuevoPlan``` que permita realizar modificaciones pequeñas al plan original, añadir una visita a un cliente nuevo antes que un cliente que anteriormente se visitaba. La signatura de la función (***firma***) ```crearNuevoPlan``` recibe un plan anterior que a partir de él vamos a crear un nuevo plan, donde añadimos una nueva visita de un cliente nuevo antes de que la de un cliente anterior.\n",
    "Implemente la función de forma que cree un nuevo plan y al ser impreso se obtenga la siguiente información: ```[Carlos, Jose, Emilio, David]```. ***Recuerde que aunque el resultado es específico queremos que sea genérico, es decir que a cualquier plan se le puede añadir una nueva visita***."
   ]
  },
  {
   "cell_type": "code",
   "execution_count": 2,
   "metadata": {},
   "outputs": [
    {
     "name": "stdout",
     "output_type": "stream",
     "text": [
      "null\n"
     ]
    }
   ],
   "source": [
    "static List<String> crearNuevoPlan(List<String> planAnterior, String nuevoCliente, String clienteActual) {\n",
    "    return null;\n",
    "}\n",
    "List<String> planVisitasB = crearNuevoPlan(planVisitasA,\"Emilio\",\"David\");\n",
    "System.out.println(planVisitasB);"
   ]
  },
  {
   "cell_type": "markdown",
   "metadata": {},
   "source": []
  }
 ],
 "metadata": {
  "kernelspec": {
   "display_name": "Java",
   "language": "java",
   "name": "java"
  },
  "language_info": {
   "codemirror_mode": "java",
   "file_extension": ".jshell",
   "mimetype": "text/x-java-source",
   "name": "Java",
   "pygments_lexer": "java",
   "version": "11.0.9+11"
  }
 },
 "nbformat": 4,
 "nbformat_minor": 4
}
