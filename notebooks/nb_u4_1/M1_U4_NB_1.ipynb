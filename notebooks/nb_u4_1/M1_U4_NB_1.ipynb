{
 "cells": [
  {
   "cell_type": "markdown",
   "metadata": {},
   "source": [
    "# Sistema de control planes de visitas\n",
    "Una empresa de ventas ambulantes requiere controlar los planes de visitas de sus vendedores ambulates. Para ello lleva por cada vendedor un estricto plan de visitas que debe ser llevado de forma secuencial. Para simplicar el problema vamos a trabajar con un único vendedor. Implementaremos nuestra solución utilizando Java y guardaremos nuestro plan de visitas como una [Lista](https://docs.oracle.com/javase/9/docs/api/java/util/List.html) implementadas a través de un [ArrayList](https://docs.oracle.com/javase/9/docs/api/java/util/ArrayList.html). La idea es almacenar el plan de un vendedor, como se muestra a continuación:"
   ]
  },
  {
   "cell_type": "code",
   "execution_count": 2,
   "metadata": {},
   "outputs": [
    {
     "name": "stdout",
     "output_type": "stream",
     "text": [
      "[Carlos, Jose, David]\n"
     ]
    }
   ],
   "source": [
    "import java.util.List;\n",
    "import java.util.ArrayList;\n",
    "\n",
    "List<String> planVisitasA = new ArrayList<>();\n",
    "planVisitasA.add(\"Carlos\");\n",
    "planVisitasA.add(\"Jose\");\n",
    "planVisitasA.add(\"David\");\n",
    "System.out.println(planVisitasA);"
   ]
  },
  {
   "cell_type": "markdown",
   "metadata": {},
   "source": [
    "En este caso, nuestro vendedor tiene como plan visitar los clientes: ```[Carlos, Jose, David]``` en ese respectivo orden.\n",
    "Nuestro sistema debe registrar los nuevos planes, de forma que podamos tener la información del *plan anterior y del plan nuevo*. Vamos a crear una función ```crearNuevoPlan``` que permita realizar modificaciones pequeñas al plan original, añadir una visita a un cliente nuevo antes que un cliente que anteriormente se visitaba. La signatura de la función (***firma***) ```crearNuevoPlan``` recibe un plan anterior que a partir de él vamos a crear un nuevo plan, donde añadimos una nueva visita de un cliente nuevo antes de que la de un cliente anterior.\n",
    "Implemente la función de forma que cree un nuevo plan y al ser impreso se obtenga la siguiente información: ```[Carlos, Jose, Emilio, David]```. ***Recuerde que aunque el resultado es específico queremos que sea genérico, es decir que a cualquier plan se le puede añadir una nueva visita***.\n",
    "Se sugiere utilizar dentro de la clase [List](https://docs.oracle.com/javase/9/docs/api/java/util/List.html) y en particular los métodos [indexOf](https://docs.oracle.com/javase/9/docs/api/java/util/List.html#indexOf-java.lang.Object-) y [add](https://docs.oracle.com/javase/9/docs/api/java/util/List.html#add-int-E-).\n",
    "Tenga en cuenta:\n",
    "* La función siempre será utilizada en planes que no están vacíos.\n",
    "* El cliente actual siempre existe."
   ]
  },
  {
   "cell_type": "code",
   "execution_count": 4,
   "metadata": {},
   "outputs": [
    {
     "name": "stdout",
     "output_type": "stream",
     "text": [
      "[Carlos, Jose, Emilio, David]\n"
     ]
    }
   ],
   "source": [
    "static List<String> crearNuevoPlan(List<String> planAnterior, String nuevoCliente, String clienteActual) {\n",
    "    int indiceCliente = planAnterior.indexOf(clienteActual);\n",
    "    planAnterior.add(indiceCliente,nuevoCliente);\n",
    "    return planAnterior;\n",
    "}\n",
    "List<String> planVisitasB = crearNuevoPlan(planVisitasA,\"Emilio\",\"David\");\n",
    "System.out.println(planVisitasB);"
   ]
  },
  {
   "cell_type": "markdown",
   "metadata": {},
   "source": [
    "El método correctamente implementado debe producir la lista ```[Carlos, Jose, Emilio, David]```, para obtener el plan ```planVisitasB```. Como son dos planes distintos esperamos que ambas listas deben ser diferentes. Probemos:"
   ]
  },
  {
   "cell_type": "code",
   "execution_count": 6,
   "metadata": {},
   "outputs": [
    {
     "name": "stdout",
     "output_type": "stream",
     "text": [
      "Ambos planes son diferentes: false\n",
      "[Carlos, Jose, Emilio, David]\n",
      "[Carlos, Jose, Emilio, David]\n"
     ]
    }
   ],
   "source": [
    "System.out.println(\"Ambos planes son diferentes: \"+ !planVisitasA.equals(planVisitasB));\n",
    "System.out.println(planVisitasA);\n",
    "System.out.println(planVisitasB);"
   ]
  },
  {
   "cell_type": "markdown",
   "metadata": {},
   "source": [
    "¿Qué pasa si ambos planes son iguales? Muy probablemente hemos modificado el plan original y hemos obtenido una referencia al mismo plan original. Esto es un problema por que esperamos tener dos planes distintos y tenemos un mismo plan. Si usted logró qué ambos planes fueran diferentes y el que el segundo con tuviera un parte del primero, usted entiende del problema que queremos tratar en esta unidad, en caso contrario no se preoucupe, explicaramos que pasó y cómo podemos solucinarlo."
   ]
  }
 ],
 "metadata": {
  "kernelspec": {
   "display_name": "Java",
   "language": "java",
   "name": "java"
  },
  "language_info": {
   "codemirror_mode": "java",
   "file_extension": ".jshell",
   "mimetype": "text/x-java-source",
   "name": "Java",
   "pygments_lexer": "java",
   "version": "11.0.9+11"
  }
 },
 "nbformat": 4,
 "nbformat_minor": 4
}
