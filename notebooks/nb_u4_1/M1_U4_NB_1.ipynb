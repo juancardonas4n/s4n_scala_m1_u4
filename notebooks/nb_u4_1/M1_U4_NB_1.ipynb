{
 "cells": [
  {
   "cell_type": "markdown",
   "metadata": {},
   "source": [
    "# Sistema de control planes de visitas\n",
    "Una empresa de ventas ambulantes requiere controlar los planes de visitas de sus vendedores ambulates. Para ellos lleva por cada vendedor un estricto plan de visitas que debe ser llevado de forma secuencial. Para simplicar el problema vamos a trabajar con un único vendedor. Para ello implementaremos nuestra solución utilizando Java y guardaremos nuestro plan de visitas como un [Lista]()"
   ]
  }
 ],
 "metadata": {
  "kernelspec": {
   "display_name": "Java",
   "language": "java",
   "name": "java"
  },
  "language_info": {
   "codemirror_mode": "java",
   "file_extension": ".jshell",
   "mimetype": "text/x-java-source",
   "name": "Java",
   "pygments_lexer": "java",
   "version": "11.0.9+11"
  }
 },
 "nbformat": 4,
 "nbformat_minor": 4
}
